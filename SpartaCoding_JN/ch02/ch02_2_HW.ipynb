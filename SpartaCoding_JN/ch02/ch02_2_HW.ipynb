{
 "cells": [
  {
   "cell_type": "code",
   "execution_count": 1,
   "metadata": {},
   "outputs": [
    {
     "data": {
      "text/html": [
       "<div>\n",
       "<style scoped>\n",
       "    .dataframe tbody tr th:only-of-type {\n",
       "        vertical-align: middle;\n",
       "    }\n",
       "\n",
       "    .dataframe tbody tr th {\n",
       "        vertical-align: top;\n",
       "    }\n",
       "\n",
       "    .dataframe thead th {\n",
       "        text-align: right;\n",
       "    }\n",
       "</style>\n",
       "<table border=\"1\" class=\"dataframe\">\n",
       "  <thead>\n",
       "    <tr style=\"text-align: right;\">\n",
       "      <th></th>\n",
       "      <th>일자</th>\n",
       "      <th>시간(1시간단위)</th>\n",
       "      <th>연령대(10세단위)</th>\n",
       "      <th>성별</th>\n",
       "      <th>시</th>\n",
       "      <th>군구</th>\n",
       "      <th>유동인구수</th>\n",
       "    </tr>\n",
       "  </thead>\n",
       "  <tbody>\n",
       "    <tr>\n",
       "      <th>0</th>\n",
       "      <td>20200401</td>\n",
       "      <td>0</td>\n",
       "      <td>20</td>\n",
       "      <td>남성</td>\n",
       "      <td>서울</td>\n",
       "      <td>도봉구</td>\n",
       "      <td>21490</td>\n",
       "    </tr>\n",
       "    <tr>\n",
       "      <th>1</th>\n",
       "      <td>20200401</td>\n",
       "      <td>0</td>\n",
       "      <td>30</td>\n",
       "      <td>여성</td>\n",
       "      <td>서울</td>\n",
       "      <td>동대문구</td>\n",
       "      <td>27260</td>\n",
       "    </tr>\n",
       "    <tr>\n",
       "      <th>2</th>\n",
       "      <td>20200401</td>\n",
       "      <td>0</td>\n",
       "      <td>50</td>\n",
       "      <td>남성</td>\n",
       "      <td>서울</td>\n",
       "      <td>구로구</td>\n",
       "      <td>35670</td>\n",
       "    </tr>\n",
       "    <tr>\n",
       "      <th>3</th>\n",
       "      <td>20200401</td>\n",
       "      <td>1</td>\n",
       "      <td>30</td>\n",
       "      <td>여성</td>\n",
       "      <td>서울</td>\n",
       "      <td>강남구</td>\n",
       "      <td>52380</td>\n",
       "    </tr>\n",
       "    <tr>\n",
       "      <th>4</th>\n",
       "      <td>20200401</td>\n",
       "      <td>1</td>\n",
       "      <td>40</td>\n",
       "      <td>남성</td>\n",
       "      <td>서울</td>\n",
       "      <td>동대문구</td>\n",
       "      <td>28420</td>\n",
       "    </tr>\n",
       "    <tr>\n",
       "      <th>...</th>\n",
       "      <td>...</td>\n",
       "      <td>...</td>\n",
       "      <td>...</td>\n",
       "      <td>...</td>\n",
       "      <td>...</td>\n",
       "      <td>...</td>\n",
       "      <td>...</td>\n",
       "    </tr>\n",
       "    <tr>\n",
       "      <th>215995</th>\n",
       "      <td>20200430</td>\n",
       "      <td>22</td>\n",
       "      <td>40</td>\n",
       "      <td>여성</td>\n",
       "      <td>서울</td>\n",
       "      <td>성동구</td>\n",
       "      <td>22150</td>\n",
       "    </tr>\n",
       "    <tr>\n",
       "      <th>215996</th>\n",
       "      <td>20200430</td>\n",
       "      <td>22</td>\n",
       "      <td>50</td>\n",
       "      <td>여성</td>\n",
       "      <td>서울</td>\n",
       "      <td>서대문구</td>\n",
       "      <td>23270</td>\n",
       "    </tr>\n",
       "    <tr>\n",
       "      <th>215997</th>\n",
       "      <td>20200430</td>\n",
       "      <td>23</td>\n",
       "      <td>20</td>\n",
       "      <td>여성</td>\n",
       "      <td>서울</td>\n",
       "      <td>용산구</td>\n",
       "      <td>18570</td>\n",
       "    </tr>\n",
       "    <tr>\n",
       "      <th>215998</th>\n",
       "      <td>20200430</td>\n",
       "      <td>23</td>\n",
       "      <td>30</td>\n",
       "      <td>여성</td>\n",
       "      <td>서울</td>\n",
       "      <td>서대문구</td>\n",
       "      <td>21100</td>\n",
       "    </tr>\n",
       "    <tr>\n",
       "      <th>215999</th>\n",
       "      <td>20200430</td>\n",
       "      <td>23</td>\n",
       "      <td>40</td>\n",
       "      <td>남성</td>\n",
       "      <td>서울</td>\n",
       "      <td>강남구</td>\n",
       "      <td>45730</td>\n",
       "    </tr>\n",
       "  </tbody>\n",
       "</table>\n",
       "<p>216000 rows × 7 columns</p>\n",
       "</div>"
      ],
      "text/plain": [
       "              일자  시간(1시간단위)  연령대(10세단위)  성별   시    군구  유동인구수\n",
       "0       20200401          0          20  남성  서울   도봉구  21490\n",
       "1       20200401          0          30  여성  서울  동대문구  27260\n",
       "2       20200401          0          50  남성  서울   구로구  35670\n",
       "3       20200401          1          30  여성  서울   강남구  52380\n",
       "4       20200401          1          40  남성  서울  동대문구  28420\n",
       "...          ...        ...         ...  ..  ..   ...    ...\n",
       "215995  20200430         22          40  여성  서울   성동구  22150\n",
       "215996  20200430         22          50  여성  서울  서대문구  23270\n",
       "215997  20200430         23          20  여성  서울   용산구  18570\n",
       "215998  20200430         23          30  여성  서울  서대문구  21100\n",
       "215999  20200430         23          40  남성  서울   강남구  45730\n",
       "\n",
       "[216000 rows x 7 columns]"
      ]
     },
     "execution_count": 1,
     "metadata": {},
     "output_type": "execute_result"
    }
   ],
   "source": [
    "import pandas as pd\n",
    "import matplotlib.pyplot as plt\n",
    "import folium\n",
    "\n",
    "\n",
    "population04_file = pd.read_csv('./data/population04.csv',encoding = 'utf-8')\n",
    "population04_file"
   ]
  },
  {
   "cell_type": "code",
   "execution_count": 2,
   "metadata": {},
   "outputs": [
    {
     "data": {
      "text/plain": [
       "Index(['일자', '시간(1시간단위)', '연령대(10세단위)', '성별', '시', '군구', '유동인구수'], dtype='object')"
      ]
     },
     "execution_count": 2,
     "metadata": {},
     "output_type": "execute_result"
    }
   ],
   "source": [
    "population04_file.columns"
   ]
  },
  {
   "cell_type": "code",
   "execution_count": 4,
   "metadata": {},
   "outputs": [
    {
     "data": {
      "text/plain": [
       "군구\n",
       "강남구     415479300\n",
       "송파구     372279240\n",
       "강서구     316538320\n",
       "서초구     293867470\n",
       "노원구     286372000\n",
       "관악구     285422490\n",
       "영등포구    280428050\n",
       "구로구     252685600\n",
       "마포구     245660870\n",
       "성북구     243666730\n",
       "은평구     241684780\n",
       "강동구     239157350\n",
       "양천구     235960940\n",
       "동작구     224537120\n",
       "중랑구     210660150\n",
       "동대문구    209673270\n",
       "광진구     205584150\n",
       "성동구     184605390\n",
       "서대문구    182865220\n",
       "도봉구     172730720\n",
       "강북구     171437740\n",
       "금천구     162236340\n",
       "중구      152646440\n",
       "종로구     152183320\n",
       "용산구     151474540\n",
       "Name: 유동인구수, dtype: int64"
      ]
     },
     "execution_count": 4,
     "metadata": {},
     "output_type": "execute_result"
    }
   ],
   "source": [
    "gungu_data = population04_file.groupby('군구').sum()['유동인구수'].sort_values(ascending = False)\n",
    "gungu_data"
   ]
  },
  {
   "cell_type": "code",
   "execution_count": 5,
   "metadata": {},
   "outputs": [
    {
     "data": {
      "text/plain": [
       "Text(0.5, 1.0, '서울시 군/구 별 유동인구')"
      ]
     },
     "execution_count": 5,
     "metadata": {},
     "output_type": "execute_result"
    },
    {
     "data": {
      "image/png": "[encoded data removed]",
      "text/plain": [
       "<Figure size 1800x432 with 1 Axes>"
      ]
     },
     "metadata": {
      "needs_background": "light"
     },
     "output_type": "display_data"
    }
   ],
   "source": [
    "plt.rcParams['font.family'] = 'Malgun Gothic'\n",
    "plt.figure(figsize=(25,6))\n",
    "plt.bar(gungu_data.index,gungu_data)\n",
    "plt.title('서울시 군/구 별 유동인구')"
   ]
  },
  {
   "cell_type": "code",
   "execution_count": 6,
   "metadata": {},
   "outputs": [
    {
     "data": {
      "text/html": [
       "<div>\n",
       "<style scoped>\n",
       "    .dataframe tbody tr th:only-of-type {\n",
       "        vertical-align: middle;\n",
       "    }\n",
       "\n",
       "    .dataframe tbody tr th {\n",
       "        vertical-align: top;\n",
       "    }\n",
       "\n",
       "    .dataframe thead th {\n",
       "        text-align: right;\n",
       "    }\n",
       "</style>\n",
       "<table border=\"1\" class=\"dataframe\">\n",
       "  <thead>\n",
       "    <tr style=\"text-align: right;\">\n",
       "      <th></th>\n",
       "      <th>일자</th>\n",
       "      <th>시간(1시간단위)</th>\n",
       "      <th>연령대(10세단위)</th>\n",
       "      <th>성별</th>\n",
       "      <th>시</th>\n",
       "      <th>군구</th>\n",
       "      <th>유동인구수</th>\n",
       "    </tr>\n",
       "  </thead>\n",
       "  <tbody>\n",
       "    <tr>\n",
       "      <th>0</th>\n",
       "      <td>20200701</td>\n",
       "      <td>0</td>\n",
       "      <td>40</td>\n",
       "      <td>남성</td>\n",
       "      <td>서울</td>\n",
       "      <td>강동구</td>\n",
       "      <td>35460</td>\n",
       "    </tr>\n",
       "    <tr>\n",
       "      <th>1</th>\n",
       "      <td>20200701</td>\n",
       "      <td>0</td>\n",
       "      <td>40</td>\n",
       "      <td>남성</td>\n",
       "      <td>서울</td>\n",
       "      <td>구로구</td>\n",
       "      <td>37440</td>\n",
       "    </tr>\n",
       "    <tr>\n",
       "      <th>2</th>\n",
       "      <td>20200701</td>\n",
       "      <td>0</td>\n",
       "      <td>40</td>\n",
       "      <td>남성</td>\n",
       "      <td>서울</td>\n",
       "      <td>도봉구</td>\n",
       "      <td>25830</td>\n",
       "    </tr>\n",
       "    <tr>\n",
       "      <th>3</th>\n",
       "      <td>20200701</td>\n",
       "      <td>1</td>\n",
       "      <td>60</td>\n",
       "      <td>여성</td>\n",
       "      <td>서울</td>\n",
       "      <td>구로구</td>\n",
       "      <td>25460</td>\n",
       "    </tr>\n",
       "    <tr>\n",
       "      <th>4</th>\n",
       "      <td>20200701</td>\n",
       "      <td>2</td>\n",
       "      <td>20</td>\n",
       "      <td>여성</td>\n",
       "      <td>서울</td>\n",
       "      <td>강동구</td>\n",
       "      <td>29260</td>\n",
       "    </tr>\n",
       "    <tr>\n",
       "      <th>...</th>\n",
       "      <td>...</td>\n",
       "      <td>...</td>\n",
       "      <td>...</td>\n",
       "      <td>...</td>\n",
       "      <td>...</td>\n",
       "      <td>...</td>\n",
       "      <td>...</td>\n",
       "    </tr>\n",
       "    <tr>\n",
       "      <th>223195</th>\n",
       "      <td>20200731</td>\n",
       "      <td>22</td>\n",
       "      <td>20</td>\n",
       "      <td>여성</td>\n",
       "      <td>서울</td>\n",
       "      <td>구로구</td>\n",
       "      <td>29360</td>\n",
       "    </tr>\n",
       "    <tr>\n",
       "      <th>223196</th>\n",
       "      <td>20200731</td>\n",
       "      <td>22</td>\n",
       "      <td>20</td>\n",
       "      <td>여성</td>\n",
       "      <td>서울</td>\n",
       "      <td>성북구</td>\n",
       "      <td>32900</td>\n",
       "    </tr>\n",
       "    <tr>\n",
       "      <th>223197</th>\n",
       "      <td>20200731</td>\n",
       "      <td>22</td>\n",
       "      <td>30</td>\n",
       "      <td>남성</td>\n",
       "      <td>서울</td>\n",
       "      <td>강동구</td>\n",
       "      <td>34010</td>\n",
       "    </tr>\n",
       "    <tr>\n",
       "      <th>223198</th>\n",
       "      <td>20200731</td>\n",
       "      <td>23</td>\n",
       "      <td>30</td>\n",
       "      <td>여성</td>\n",
       "      <td>서울</td>\n",
       "      <td>서대문구</td>\n",
       "      <td>21960</td>\n",
       "    </tr>\n",
       "    <tr>\n",
       "      <th>223199</th>\n",
       "      <td>20200731</td>\n",
       "      <td>23</td>\n",
       "      <td>70</td>\n",
       "      <td>여성</td>\n",
       "      <td>서울</td>\n",
       "      <td>마포구</td>\n",
       "      <td>17770</td>\n",
       "    </tr>\n",
       "  </tbody>\n",
       "</table>\n",
       "<p>223200 rows × 7 columns</p>\n",
       "</div>"
      ],
      "text/plain": [
       "              일자  시간(1시간단위)  연령대(10세단위)  성별   시    군구  유동인구수\n",
       "0       20200701          0          40  남성  서울   강동구  35460\n",
       "1       20200701          0          40  남성  서울   구로구  37440\n",
       "2       20200701          0          40  남성  서울   도봉구  25830\n",
       "3       20200701          1          60  여성  서울   구로구  25460\n",
       "4       20200701          2          20  여성  서울   강동구  29260\n",
       "...          ...        ...         ...  ..  ..   ...    ...\n",
       "223195  20200731         22          20  여성  서울   구로구  29360\n",
       "223196  20200731         22          20  여성  서울   성북구  32900\n",
       "223197  20200731         22          30  남성  서울   강동구  34010\n",
       "223198  20200731         23          30  여성  서울  서대문구  21960\n",
       "223199  20200731         23          70  여성  서울   마포구  17770\n",
       "\n",
       "[223200 rows x 7 columns]"
      ]
     },
     "execution_count": 6,
     "metadata": {},
     "output_type": "execute_result"
    }
   ],
   "source": [
    "population07_file = pd.read_csv('./data/population07.csv',encoding = 'utf-8')\n",
    "population07_file"
   ]
  },
  {
   "cell_type": "code",
   "execution_count": 7,
   "metadata": {},
   "outputs": [
    {
     "data": {
      "text/plain": [
       "Index(['일자', '시간(1시간단위)', '연령대(10세단위)', '성별', '시', '군구', '유동인구수'], dtype='object')"
      ]
     },
     "execution_count": 7,
     "metadata": {},
     "output_type": "execute_result"
    }
   ],
   "source": [
    "population07_file.columns"
   ]
  },
  {
   "cell_type": "code",
   "execution_count": 9,
   "metadata": {},
   "outputs": [
    {
     "name": "stdout",
     "output_type": "stream",
     "text": [
      "31\n",
      "25\n"
     ]
    }
   ],
   "source": [
    "print(len(set(population07_file['일자'])))\n",
    "print(len(set(population07_file['군구'])))"
   ]
  },
  {
   "cell_type": "code",
   "execution_count": 10,
   "metadata": {},
   "outputs": [
    {
     "data": {
      "text/plain": [
       "Index(['일자', '시간(1시간단위)', '연령대(10세단위)', '성별', '시', '군구', '유동인구수'], dtype='object')"
      ]
     },
     "execution_count": 10,
     "metadata": {},
     "output_type": "execute_result"
    }
   ],
   "source": [
    "population04_file.columns"
   ]
  },
  {
   "cell_type": "code",
   "execution_count": 11,
   "metadata": {},
   "outputs": [
    {
     "name": "stdout",
     "output_type": "stream",
     "text": [
      "30\n",
      "25\n"
     ]
    }
   ],
   "source": [
    "print(len(set(population04_file['일자'])))\n",
    "print(len(set(population04_file['군구'])))"
   ]
  },
  {
   "cell_type": "code",
   "execution_count": 35,
   "metadata": {
    "scrolled": true
   },
   "outputs": [
    {
     "ename": "KeyError",
     "evalue": "'Column not found: 강남구'",
     "output_type": "error",
     "traceback": [
      "\u001b[1;31m---------------------------------------------------------------------------\u001b[0m",
      "\u001b[1;31mKeyError\u001b[0m                                  Traceback (most recent call last)",
      "\u001b[1;32m<ipython-input-35-357d7545e7d8>\u001b[0m in \u001b[0;36m<module>\u001b[1;34m\u001b[0m\n\u001b[0;32m      3\u001b[0m \u001b[1;31m#     if tmp.indices[i] == '강남구':\u001b[0m\u001b[1;33m\u001b[0m\u001b[1;33m\u001b[0m\u001b[1;33m\u001b[0m\u001b[0m\n\u001b[0;32m      4\u001b[0m \u001b[1;31m#         gangnamgu_data = tmp\u001b[0m\u001b[1;33m\u001b[0m\u001b[1;33m\u001b[0m\u001b[1;33m\u001b[0m\u001b[0m\n\u001b[1;32m----> 5\u001b[1;33m \u001b[0mtmp\u001b[0m\u001b[1;33m[\u001b[0m\u001b[1;34m'강남구'\u001b[0m\u001b[1;33m]\u001b[0m\u001b[1;33m\u001b[0m\u001b[1;33m\u001b[0m\u001b[0m\n\u001b[0m",
      "\u001b[1;32mc:\\users\\user\\appdata\\local\\programs\\python\\python37\\lib\\site-packages\\pandas\\core\\groupby\\generic.py\u001b[0m in \u001b[0;36m__getitem__\u001b[1;34m(self, key)\u001b[0m\n\u001b[0;32m   1601\u001b[0m                 \u001b[0mstacklevel\u001b[0m\u001b[1;33m=\u001b[0m\u001b[1;36m2\u001b[0m\u001b[1;33m,\u001b[0m\u001b[1;33m\u001b[0m\u001b[1;33m\u001b[0m\u001b[0m\n\u001b[0;32m   1602\u001b[0m             )\n\u001b[1;32m-> 1603\u001b[1;33m         \u001b[1;32mreturn\u001b[0m \u001b[0msuper\u001b[0m\u001b[1;33m(\u001b[0m\u001b[1;33m)\u001b[0m\u001b[1;33m.\u001b[0m\u001b[0m__getitem__\u001b[0m\u001b[1;33m(\u001b[0m\u001b[0mkey\u001b[0m\u001b[1;33m)\u001b[0m\u001b[1;33m\u001b[0m\u001b[1;33m\u001b[0m\u001b[0m\n\u001b[0m\u001b[0;32m   1604\u001b[0m \u001b[1;33m\u001b[0m\u001b[0m\n\u001b[0;32m   1605\u001b[0m     \u001b[1;32mdef\u001b[0m \u001b[0m_gotitem\u001b[0m\u001b[1;33m(\u001b[0m\u001b[0mself\u001b[0m\u001b[1;33m,\u001b[0m \u001b[0mkey\u001b[0m\u001b[1;33m,\u001b[0m \u001b[0mndim\u001b[0m\u001b[1;33m:\u001b[0m \u001b[0mint\u001b[0m\u001b[1;33m,\u001b[0m \u001b[0msubset\u001b[0m\u001b[1;33m=\u001b[0m\u001b[1;32mNone\u001b[0m\u001b[1;33m)\u001b[0m\u001b[1;33m:\u001b[0m\u001b[1;33m\u001b[0m\u001b[1;33m\u001b[0m\u001b[0m\n",
      "\u001b[1;32mc:\\users\\user\\appdata\\local\\programs\\python\\python37\\lib\\site-packages\\pandas\\core\\base.py\u001b[0m in \u001b[0;36m__getitem__\u001b[1;34m(self, key)\u001b[0m\n\u001b[0;32m    228\u001b[0m         \u001b[1;32melse\u001b[0m\u001b[1;33m:\u001b[0m\u001b[1;33m\u001b[0m\u001b[1;33m\u001b[0m\u001b[0m\n\u001b[0;32m    229\u001b[0m             \u001b[1;32mif\u001b[0m \u001b[0mkey\u001b[0m \u001b[1;32mnot\u001b[0m \u001b[1;32min\u001b[0m \u001b[0mself\u001b[0m\u001b[1;33m.\u001b[0m\u001b[0mobj\u001b[0m\u001b[1;33m:\u001b[0m\u001b[1;33m\u001b[0m\u001b[1;33m\u001b[0m\u001b[0m\n\u001b[1;32m--> 230\u001b[1;33m                 \u001b[1;32mraise\u001b[0m \u001b[0mKeyError\u001b[0m\u001b[1;33m(\u001b[0m\u001b[1;34mf\"Column not found: {key}\"\u001b[0m\u001b[1;33m)\u001b[0m\u001b[1;33m\u001b[0m\u001b[1;33m\u001b[0m\u001b[0m\n\u001b[0m\u001b[0;32m    231\u001b[0m             \u001b[1;32mreturn\u001b[0m \u001b[0mself\u001b[0m\u001b[1;33m.\u001b[0m\u001b[0m_gotitem\u001b[0m\u001b[1;33m(\u001b[0m\u001b[0mkey\u001b[0m\u001b[1;33m,\u001b[0m \u001b[0mndim\u001b[0m\u001b[1;33m=\u001b[0m\u001b[1;36m1\u001b[0m\u001b[1;33m)\u001b[0m\u001b[1;33m\u001b[0m\u001b[1;33m\u001b[0m\u001b[0m\n\u001b[0;32m    232\u001b[0m \u001b[1;33m\u001b[0m\u001b[0m\n",
      "\u001b[1;31mKeyError\u001b[0m: 'Column not found: 강남구'"
     ]
    }
   ],
   "source": [
    "tmp = population04_file.groupby('군구')\n",
    "# for i in range(len(tmp.indices)):\n",
    "#     if tmp.indices[i] == '강남구':\n",
    "#         gangnamgu_data = tmp\n",
    "tmp['강남구']"
   ]
  },
  {
   "cell_type": "code",
   "execution_count": null,
   "metadata": {},
   "outputs": [],
   "source": []
  }
 ],
 "metadata": {
  "kernelspec": {
   "display_name": "Python 3",
   "language": "python",
   "name": "python3"
  },
  "language_info": {
   "codemirror_mode": {
    "name": "ipython",
    "version": 3
   },
   "file_extension": ".py",
   "mimetype": "text/x-python",
   "name": "python",
   "nbconvert_exporter": "python",
   "pygments_lexer": "ipython3",
   "version": "3.7.7"
  }
 },
 "nbformat": 4,
 "nbformat_minor": 4
}
